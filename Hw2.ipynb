{
 "cells": [
  {
   "cell_type": "code",
   "execution_count": null,
   "id": "1f00bbe8-92d6-4e7d-a1fe-59e244247c4e",
   "metadata": {},
   "outputs": [],
   "source": [
    "pip install pandas"
   ]
  },
  {
   "cell_type": "code",
   "execution_count": null,
   "id": "e95fdda0-f30e-4ba3-8651-1bc66fdb6568",
   "metadata": {},
   "outputs": [],
   "source": [
    "pip install seaborn"
   ]
  },
  {
   "cell_type": "code",
   "execution_count": null,
   "id": "fdd4b179-80ea-4f0d-bfaa-8e61bbc2575b",
   "metadata": {},
   "outputs": [],
   "source": [
    "import pandas as pd"
   ]
  },
  {
   "cell_type": "code",
   "execution_count": null,
   "id": "25d61054-84ed-40bd-89f4-5fc9f719527f",
   "metadata": {},
   "outputs": [],
   "source": [
    "df = pd.read_csv(\"TRB_10_7.tsv\") "
   ]
  },
  {
   "cell_type": "code",
   "execution_count": null,
   "id": "4891bd40-14b6-4bae-b5dc-e77071f47a16",
   "metadata": {},
   "outputs": [],
   "source": [
    "df.head()"
   ]
  },
  {
   "cell_type": "code",
   "execution_count": null,
   "id": "1cb5ad6c-44d8-40c1-9eee-1d28739da476",
   "metadata": {},
   "outputs": [],
   "source": [
    "df = df.rename(columns = {\"TRBV7-9\": \"Names\"})"
   ]
  },
  {
   "cell_type": "code",
   "execution_count": null,
   "id": "e8bb952a-db98-4703-9c7b-723cc56c4bfe",
   "metadata": {},
   "outputs": [],
   "source": [
    "df.head()"
   ]
  },
  {
   "cell_type": "code",
   "execution_count": null,
   "id": "381f5649-cb25-4b3f-a17f-6681c0ec1eb6",
   "metadata": {
    "tags": []
   },
   "outputs": [],
   "source": [
    "import seaborn as sns"
   ]
  },
  {
   "cell_type": "code",
   "execution_count": null,
   "id": "643180f7-10b7-476b-96e7-9bbb872dcf7f",
   "metadata": {},
   "outputs": [],
   "source": [
    "sns.histplot(df['Names'])"
   ]
  },
  {
   "cell_type": "markdown",
   "id": "454360cc-8ef3-47fe-b7e6-7ee410fe9022",
   "metadata": {},
   "source": [
    "https://www.google.com/url?sa=i&url=https%3A%2F%2Fwww.britannica.com%2Ftopic%2Fcats-as-pets&psig=AOvVaw0VRlosyfpMWP3PYIerEVzE&ust=1741162470604000&source=images&cd=vfe&opi=89978449&ved=0CBQQjRxqFwoTCNDu1Of974sDFQAAAAAdAAAAABAE"
   ]
  },
  {
   "cell_type": "markdown",
   "id": "1b6aea33-8946-40d1-a8e1-98be3a128b2b",
   "metadata": {},
   "source": [
    "![Cat Image](https://cdn.britannica.com/67/187067-138-D6DE2466/pheromones-catnip-cats-earth-additives-reactions-cat.jpg?w=800&h=450&c=crop)\n"
   ]
  },
  {
   "cell_type": "code",
   "execution_count": null,
   "id": "de8ac19e-0ce9-4414-a57b-a09a34f9838b",
   "metadata": {},
   "outputs": [],
   "source": [
    "pip install rpy2"
   ]
  },
  {
   "cell_type": "code",
   "execution_count": null,
   "id": "36d09b31-ef7d-4e4b-bcd0-4e55831221aa",
   "metadata": {},
   "outputs": [],
   "source": [
    "%load_ext rpy2.ipython"
   ]
  },
  {
   "cell_type": "code",
   "execution_count": null,
   "id": "34c0c052-9250-4b9b-a851-a93bdd7141ed",
   "metadata": {},
   "outputs": [],
   "source": [
    "import rpy2.robjects\n",
    "from rpy2.robjects import pandas2ri\n",
    "from rpy2.robjects import globalenv"
   ]
  },
  {
   "cell_type": "code",
   "execution_count": null,
   "id": "a8220e32-5fc7-475f-8bf4-94b7b09e43b3",
   "metadata": {},
   "outputs": [],
   "source": [
    "pandas2ri.activate()"
   ]
  },
  {
   "cell_type": "code",
   "execution_count": null,
   "id": "2b43993c-035a-4666-acd5-b4a21639925d",
   "metadata": {},
   "outputs": [],
   "source": [
    "r_df = pandas2ri.py2rpy(df)"
   ]
  },
  {
   "cell_type": "code",
   "execution_count": null,
   "id": "91a38dda-da6a-4a6b-a756-6c1a84fd2e6a",
   "metadata": {},
   "outputs": [],
   "source": [
    "%%R \n",
    "install.packages(\"ggplot2\")"
   ]
  },
  {
   "cell_type": "code",
   "execution_count": null,
   "id": "8e0e6880-ffd7-4f6f-869a-7a8812895c7d",
   "metadata": {},
   "outputs": [],
   "source": [
    "%%R \n",
    "library(ggplot2)"
   ]
  },
  {
   "cell_type": "code",
   "execution_count": null,
   "id": "28113319-0ab8-40b1-82e1-dca9822586ed",
   "metadata": {},
   "outputs": [],
   "source": [
    "%%R\n",
    "ggplot(r_df, aes(x = names)) + geom_bar(stat = \"count\")"
   ]
  },
  {
   "cell_type": "code",
   "execution_count": null,
   "id": "f2c06da2-b917-4bda-a8c9-cda434d6bf46",
   "metadata": {},
   "outputs": [],
   "source": []
  }
 ],
 "metadata": {
  "kernelspec": {
   "display_name": "Python 3 (ipykernel)",
   "language": "python",
   "name": "python3"
  },
  "language_info": {
   "codemirror_mode": {
    "name": "ipython",
    "version": 3
   },
   "file_extension": ".py",
   "mimetype": "text/x-python",
   "name": "python",
   "nbconvert_exporter": "python",
   "pygments_lexer": "ipython3",
   "version": "3.8.12"
  }
 },
 "nbformat": 4,
 "nbformat_minor": 5
}
