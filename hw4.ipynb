newick_tree = """
(
  (
    sp|P08057|TNNI3_BOVIN:0.04740,
    sp|P19429|TNNI3_HUMAN:0.03355
  ):0.03790,
  sp|P48787|TNNI3_MOUSE:0.00474,
  sp|P23693|TNNI3_RAT:0.00474
);
"""
print("Newick Tree:\n", newick_tree)

from IPython.display import Image
Image(filename="tree.png")
